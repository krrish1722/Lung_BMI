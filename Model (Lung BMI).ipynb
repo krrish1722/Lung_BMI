{
 "cells": [
  {
   "cell_type": "code",
   "execution_count": 1,
   "id": "2c7169ba-cf82-4bb3-bdf4-59550c966289",
   "metadata": {},
   "outputs": [],
   "source": [
    "import pandas as pd"
   ]
  },
  {
   "cell_type": "code",
   "execution_count": 2,
   "id": "e3260523-541d-4e4d-ba78-2b6ddb5ca522",
   "metadata": {},
   "outputs": [],
   "source": [
    "lcn = pd.read_csv(r\"E:\\Python basics\\Pranjal Sir\\Pandas Data Sets\\LungCapData_BMI.csv\")"
   ]
  },
  {
   "cell_type": "code",
   "execution_count": 3,
   "id": "25b2eee3-0328-4821-b0ae-32540095cbff",
   "metadata": {},
   "outputs": [
    {
     "data": {
      "text/plain": [
       "LungCap      0\n",
       "Age          0\n",
       "Height       0\n",
       "Smoke        0\n",
       "Gender       0\n",
       "Caesarean    0\n",
       "BMI          0\n",
       "dtype: int64"
      ]
     },
     "execution_count": 3,
     "metadata": {},
     "output_type": "execute_result"
    }
   ],
   "source": [
    "lcn.isnull().sum()"
   ]
  },
  {
   "cell_type": "code",
   "execution_count": 4,
   "id": "ec47b20a-08a3-45b6-bef1-0280099e5bb0",
   "metadata": {},
   "outputs": [
    {
     "data": {
      "text/plain": [
       "Index([], dtype='object')"
      ]
     },
     "execution_count": 4,
     "metadata": {},
     "output_type": "execute_result"
    }
   ],
   "source": [
    "lcn.columns[lcn.columns == 'object']"
   ]
  },
  {
   "cell_type": "code",
   "execution_count": 5,
   "id": "6cf7f6c7-83f6-4a04-9d63-b36d8e4d785c",
   "metadata": {},
   "outputs": [],
   "source": [
    "lcn.Smoke = lcn.Smoke.replace({'no': 0, 'yes': 1})\n",
    "lcn.Gender = lcn.Gender.replace({'male': 0, 'female': 1})\n",
    "lcn.Caesarean = lcn.Caesarean.replace({'no': 0, 'yes': 1})"
   ]
  },
  {
   "cell_type": "code",
   "execution_count": 32,
   "id": "714afadc-5737-405d-b775-c73a752feb26",
   "metadata": {},
   "outputs": [],
   "source": [
    "lcn = lcn.drop(['BMI'], axis=1)"
   ]
  },
  {
   "cell_type": "code",
   "execution_count": 33,
   "id": "c736c057-1973-40c2-971b-fd565360747d",
   "metadata": {},
   "outputs": [],
   "source": [
    "from sklearn.model_selection import train_test_split"
   ]
  },
  {
   "cell_type": "code",
   "execution_count": 34,
   "id": "d77b33de-c397-4bdd-b116-897ab5ac0cde",
   "metadata": {},
   "outputs": [],
   "source": [
    "lcn_train, lcn_test = train_test_split(lcn, test_size= .2)"
   ]
  },
  {
   "cell_type": "code",
   "execution_count": 35,
   "id": "a4b98e62-15af-4011-8ae8-fb1ac64ef7cb",
   "metadata": {},
   "outputs": [],
   "source": [
    "lcn_train_x = lcn_train.iloc[:, 1::]\n",
    "lcn_train_y = lcn_train.iloc[:, 0]\n",
    "\n",
    "lcn_test_x = lcn_test.iloc[:, 1::]\n",
    "lcn_test_y = lcn_test.iloc[:, 0]"
   ]
  },
  {
   "cell_type": "code",
   "execution_count": 36,
   "id": "b9fd6889-a615-48f5-9af8-4838747e5b8d",
   "metadata": {},
   "outputs": [
    {
     "name": "stdout",
     "output_type": "stream",
     "text": [
      "(580, 5) (580,)\n"
     ]
    }
   ],
   "source": [
    "print(lcn_train_x.shape , lcn_train_y.shape)"
   ]
  },
  {
   "cell_type": "code",
   "execution_count": 37,
   "id": "929b9800-7894-47c3-b532-81330261c501",
   "metadata": {},
   "outputs": [
    {
     "name": "stdout",
     "output_type": "stream",
     "text": [
      "(145, 5) (145,)\n"
     ]
    }
   ],
   "source": [
    "print(lcn_test_x.shape , lcn_test_y.shape)"
   ]
  },
  {
   "cell_type": "code",
   "execution_count": 38,
   "id": "9efcb773-5f5a-47bb-806a-66e9293101b4",
   "metadata": {},
   "outputs": [],
   "source": [
    "from sklearn.linear_model import LinearRegression\n",
    "\n",
    "linreg = LinearRegression() "
   ]
  },
  {
   "cell_type": "code",
   "execution_count": 39,
   "id": "5ae6d075-d692-450e-8e7e-57c8b882cec9",
   "metadata": {},
   "outputs": [
    {
     "data": {
      "text/plain": [
       "LinearRegression()"
      ]
     },
     "execution_count": 39,
     "metadata": {},
     "output_type": "execute_result"
    }
   ],
   "source": [
    "linreg.fit(lcn_train_x, lcn_train_y)"
   ]
  },
  {
   "cell_type": "code",
   "execution_count": 40,
   "id": "ca76c2b5-8b8f-40dd-9260-8ac992521b8a",
   "metadata": {},
   "outputs": [],
   "source": [
    "pred = linreg.predict(lcn_test_x)"
   ]
  },
  {
   "cell_type": "code",
   "execution_count": 41,
   "id": "cad243f1-dff0-4b7f-985c-42b7954f6af0",
   "metadata": {},
   "outputs": [
    {
     "data": {
      "text/plain": [
       "0.8527205428090854"
      ]
     },
     "execution_count": 41,
     "metadata": {},
     "output_type": "execute_result"
    }
   ],
   "source": [
    "Rsquare = linreg.score(lcn_train_x, lcn_train_y)\n",
    "Rsquare"
   ]
  },
  {
   "cell_type": "code",
   "execution_count": 42,
   "id": "c9b76e97-687d-4e1d-aad8-f293db941c4f",
   "metadata": {},
   "outputs": [
    {
     "data": {
      "text/plain": [
       "0.8514376207081192"
      ]
     },
     "execution_count": 42,
     "metadata": {},
     "output_type": "execute_result"
    }
   ],
   "source": [
    "# Adjusted R square\n",
    "\n",
    "N = lcn_train_x.shape[0]\n",
    "K = lcn_train_x.shape[1]\n",
    "\n",
    "AdjRsquare = 1 - (1- Rsquare)*(N-1) / (N-K-1)\n",
    "AdjRsquare\n"
   ]
  },
  {
   "cell_type": "code",
   "execution_count": 43,
   "id": "d182baec-f5d5-4aec-b8c8-9e8f57bed80f",
   "metadata": {},
   "outputs": [],
   "source": [
    "pred_train = linreg.predict(lcn_train_x)"
   ]
  },
  {
   "cell_type": "code",
   "execution_count": 44,
   "id": "1e03a3d0-53b8-40ce-a5a7-f5acc3a1c8be",
   "metadata": {},
   "outputs": [
    {
     "data": {
      "text/plain": [
       "98    -0.721076\n",
       "642    0.332149\n",
       "106   -0.671996\n",
       "584    0.337307\n",
       "717   -0.661544\n",
       "         ...   \n",
       "123   -0.047302\n",
       "305    0.887966\n",
       "370    1.847210\n",
       "702    1.231659\n",
       "168   -0.876794\n",
       "Name: LungCap, Length: 580, dtype: float64"
      ]
     },
     "execution_count": 44,
     "metadata": {},
     "output_type": "execute_result"
    }
   ],
   "source": [
    "err_train = lcn_train_y - pred_train\n",
    "err_train"
   ]
  },
  {
   "cell_type": "code",
   "execution_count": 45,
   "id": "69d19cb6-da36-4659-8cfa-92da91cf6b5c",
   "metadata": {},
   "outputs": [],
   "source": [
    "import numpy as np"
   ]
  },
  {
   "cell_type": "code",
   "execution_count": 46,
   "id": "984e5a77-3094-48bd-ab67-dbed85ce33d4",
   "metadata": {},
   "outputs": [
    {
     "data": {
      "text/plain": [
       "-3.811510494195882e-15"
      ]
     },
     "execution_count": 46,
     "metadata": {},
     "output_type": "execute_result"
    }
   ],
   "source": [
    "np.mean(err_train)"
   ]
  },
  {
   "cell_type": "code",
   "execution_count": 47,
   "id": "fdafbe11-7def-46fc-a5b9-ea1ff530168c",
   "metadata": {},
   "outputs": [],
   "source": [
    "import matplotlib.pyplot as plt"
   ]
  },
  {
   "cell_type": "code",
   "execution_count": 48,
   "id": "2531fd22-9f5e-4b85-9174-06510f7b4240",
   "metadata": {},
   "outputs": [
    {
     "data": {
      "image/png": "[encoded data removed]",
      "text/plain": [
       "<Figure size 432x288 with 1 Axes>"
      ]
     },
     "metadata": {
      "needs_background": "light"
     },
     "output_type": "display_data"
    }
   ],
   "source": [
    "plt.hist(err_train , bins =30);"
   ]
  },
  {
   "cell_type": "code",
   "execution_count": 49,
   "id": "99cd04cf-51ed-46ac-86c6-835137bc712e",
   "metadata": {},
   "outputs": [
    {
     "data": {
      "image/png": "[encoded data removed]",
      "text/plain": [
       "<Figure size 432x288 with 1 Axes>"
      ]
     },
     "metadata": {
      "needs_background": "light"
     },
     "output_type": "display_data"
    }
   ],
   "source": [
    "plt.plot(err_train , \"*\");  # Scatter plot"
   ]
  },
  {
   "cell_type": "code",
   "execution_count": 50,
   "id": "1fa829e6-f32f-4887-a920-e76b402cf3b0",
   "metadata": {},
   "outputs": [],
   "source": [
    "pred_actual = pd.DataFrame()\n",
    "pred_actual['Actual'] = lcn_train_y\n",
    "pred_actual['Predicted'] = pred_train"
   ]
  },
  {
   "cell_type": "code",
   "execution_count": 51,
   "id": "1a35a0a1-82c3-4291-ba28-f99d7a7209d7",
   "metadata": {},
   "outputs": [
    {
     "data": {
      "text/plain": [
       "1.1303936719806262"
      ]
     },
     "execution_count": 51,
     "metadata": {},
     "output_type": "execute_result"
    }
   ],
   "source": [
    "pred_test = linreg.predict(lcn_test_x)\n",
    "err_test  = lcn_test_y - pred_test\n",
    "\n",
    "MSE = np.mean(np.square(err_test))\n",
    "MSE"
   ]
  },
  {
   "cell_type": "code",
   "execution_count": 52,
   "id": "6eb82d37-4e1d-4903-9a51-69124cf1ba10",
   "metadata": {},
   "outputs": [
    {
     "data": {
      "text/plain": [
       "1.0631997328727214"
      ]
     },
     "execution_count": 52,
     "metadata": {},
     "output_type": "execute_result"
    }
   ],
   "source": [
    "RMSE = np.sqrt(MSE)\n",
    "RMSE"
   ]
  },
  {
   "cell_type": "code",
   "execution_count": 53,
   "id": "03f5d501-5095-44c0-a787-3c7bd0f21844",
   "metadata": {},
   "outputs": [
    {
     "data": {
      "text/plain": [
       "14.05869123867351"
      ]
     },
     "execution_count": 53,
     "metadata": {},
     "output_type": "execute_result"
    }
   ],
   "source": [
    "MAPE = np.mean(np.abs(err_test * 100/ lcn_test_y))\n",
    "MAPE"
   ]
  },
  {
   "cell_type": "code",
   "execution_count": 54,
   "id": "43490abe-cde2-404d-94e7-35da8ad877f7",
   "metadata": {},
   "outputs": [],
   "source": [
    "import seaborn as sns"
   ]
  },
  {
   "cell_type": "code",
   "execution_count": 55,
   "id": "8fa2430d-66c5-43b9-a90f-75602758443c",
   "metadata": {},
   "outputs": [
    {
     "data": {
      "image/png": "[encoded data removed]",
      "text/plain": [
       "<Figure size 432x288 with 1 Axes>"
      ]
     },
     "metadata": {
      "needs_background": "light"
     },
     "output_type": "display_data"
    }
   ],
   "source": [
    "sns.regplot(x = 'Actual', y = 'Predicted', data = pred_actual);"
   ]
  },
  {
   "cell_type": "markdown",
   "id": "1994eb63-d980-4844-a284-aaa78e911f87",
   "metadata": {},
   "source": [
    "----------------"
   ]
  },
  {
   "cell_type": "markdown",
   "id": "94cd8528-6505-49d1-9cd5-021bf1351c99",
   "metadata": {},
   "source": [
    "### CAR Price"
   ]
  },
  {
   "cell_type": "code",
   "execution_count": 69,
   "id": "bf3ff033-c7cc-4b50-805d-de17b920cda0",
   "metadata": {},
   "outputs": [],
   "source": [
    "cp=pd.read_csv(r\"E:\\Python basics\\Pranjal Sir\\Pandas Data Sets\\car_price.csv\")"
   ]
  },
  {
   "cell_type": "code",
   "execution_count": 70,
   "id": "48ce9f90-2d58-41b8-862d-1fc500e7a805",
   "metadata": {},
   "outputs": [
    {
     "data": {
      "text/html": [
       "<div>\n",
       "<style scoped>\n",
       "    .dataframe tbody tr th:only-of-type {\n",
       "        vertical-align: middle;\n",
       "    }\n",
       "\n",
       "    .dataframe tbody tr th {\n",
       "        vertical-align: top;\n",
       "    }\n",
       "\n",
       "    .dataframe thead th {\n",
       "        text-align: right;\n",
       "    }\n",
       "</style>\n",
       "<table border=\"1\" class=\"dataframe\">\n",
       "  <thead>\n",
       "    <tr style=\"text-align: right;\">\n",
       "      <th></th>\n",
       "      <th>symboling</th>\n",
       "      <th>normalized_losses</th>\n",
       "      <th>Fuel_type</th>\n",
       "      <th>make</th>\n",
       "      <th>num_of_doors</th>\n",
       "      <th>aspiration</th>\n",
       "      <th>wheel_base</th>\n",
       "      <th>engine_location</th>\n",
       "      <th>drive_wheels</th>\n",
       "      <th>body_style</th>\n",
       "      <th>...</th>\n",
       "      <th>engine_size</th>\n",
       "      <th>fuel_system</th>\n",
       "      <th>bore</th>\n",
       "      <th>stroke</th>\n",
       "      <th>compression_ratio</th>\n",
       "      <th>horsepower</th>\n",
       "      <th>peak_rpm</th>\n",
       "      <th>city_mpg</th>\n",
       "      <th>highway_mpg</th>\n",
       "      <th>price</th>\n",
       "    </tr>\n",
       "  </thead>\n",
       "  <tbody>\n",
       "    <tr>\n",
       "      <th>0</th>\n",
       "      <td>3</td>\n",
       "      <td>?</td>\n",
       "      <td>gas</td>\n",
       "      <td>std</td>\n",
       "      <td>two</td>\n",
       "      <td>convertible</td>\n",
       "      <td>rwd</td>\n",
       "      <td>front</td>\n",
       "      <td>88.6</td>\n",
       "      <td>alfa-romero</td>\n",
       "      <td>...</td>\n",
       "      <td>130</td>\n",
       "      <td>mpfi</td>\n",
       "      <td>3.47</td>\n",
       "      <td>2.68</td>\n",
       "      <td>9.0</td>\n",
       "      <td>111</td>\n",
       "      <td>5000</td>\n",
       "      <td>21</td>\n",
       "      <td>27</td>\n",
       "      <td>13495</td>\n",
       "    </tr>\n",
       "    <tr>\n",
       "      <th>1</th>\n",
       "      <td>3</td>\n",
       "      <td>?</td>\n",
       "      <td>gas</td>\n",
       "      <td>std</td>\n",
       "      <td>two</td>\n",
       "      <td>convertible</td>\n",
       "      <td>rwd</td>\n",
       "      <td>front</td>\n",
       "      <td>88.6</td>\n",
       "      <td>alfa-romero</td>\n",
       "      <td>...</td>\n",
       "      <td>130</td>\n",
       "      <td>mpfi</td>\n",
       "      <td>3.47</td>\n",
       "      <td>2.68</td>\n",
       "      <td>9.0</td>\n",
       "      <td>111</td>\n",
       "      <td>5000</td>\n",
       "      <td>21</td>\n",
       "      <td>27</td>\n",
       "      <td>16500</td>\n",
       "    </tr>\n",
       "  </tbody>\n",
       "</table>\n",
       "<p>2 rows × 26 columns</p>\n",
       "</div>"
      ],
      "text/plain": [
       "   symboling normalized_losses Fuel_type make num_of_doors   aspiration  \\\n",
       "0          3                 ?       gas  std          two  convertible   \n",
       "1          3                 ?       gas  std          two  convertible   \n",
       "\n",
       "  wheel_base engine_location  drive_wheels   body_style  ...  engine_size  \\\n",
       "0        rwd           front          88.6  alfa-romero  ...          130   \n",
       "1        rwd           front          88.6  alfa-romero  ...          130   \n",
       "\n",
       "   fuel_system  bore  stroke compression_ratio horsepower  peak_rpm city_mpg  \\\n",
       "0         mpfi  3.47    2.68               9.0        111      5000       21   \n",
       "1         mpfi  3.47    2.68               9.0        111      5000       21   \n",
       "\n",
       "  highway_mpg  price  \n",
       "0          27  13495  \n",
       "1          27  16500  \n",
       "\n",
       "[2 rows x 26 columns]"
      ]
     },
     "execution_count": 70,
     "metadata": {},
     "output_type": "execute_result"
    }
   ],
   "source": [
    "cp.head(2)"
   ]
  },
  {
   "cell_type": "code",
   "execution_count": 71,
   "id": "f4a46dfd-c3ea-4598-8b9b-1158210376cd",
   "metadata": {},
   "outputs": [],
   "source": [
    "cp = cp.replace({'?' : np.nan })\n",
    "# convert ? to nulls"
   ]
  },
  {
   "cell_type": "code",
   "execution_count": 72,
   "id": "dc74bab7-a79c-4e32-bf11-d3a9a3c2700d",
   "metadata": {},
   "outputs": [
    {
     "data": {
      "text/plain": [
       "normalized_losses    41\n",
       "num_of_doors          2\n",
       "bore                  4\n",
       "stroke                4\n",
       "horsepower            2\n",
       "peak_rpm              2\n",
       "price                 4\n",
       "dtype: int64"
      ]
     },
     "execution_count": 72,
     "metadata": {},
     "output_type": "execute_result"
    }
   ],
   "source": [
    "cp.isnull().sum()[cp.isnull().sum() > 0]"
   ]
  },
  {
   "cell_type": "code",
   "execution_count": 73,
   "id": "2edeef6f-d440-4917-b373-f37dd6a5b159",
   "metadata": {},
   "outputs": [
    {
     "data": {
      "text/plain": [
       "115.0"
      ]
     },
     "execution_count": 73,
     "metadata": {},
     "output_type": "execute_result"
    }
   ],
   "source": [
    "cp.normalized_losses.median()"
   ]
  },
  {
   "cell_type": "code",
   "execution_count": 74,
   "id": "dc0f10f1-e806-49f3-bf0d-44105e8dcabb",
   "metadata": {},
   "outputs": [
    {
     "data": {
      "text/plain": [
       "<bound method Series.info of 0      NaN\n",
       "1      NaN\n",
       "2      NaN\n",
       "3      164\n",
       "4      164\n",
       "      ... \n",
       "200     95\n",
       "201     95\n",
       "202     95\n",
       "203     95\n",
       "204     95\n",
       "Name: normalized_losses, Length: 205, dtype: object>"
      ]
     },
     "execution_count": 74,
     "metadata": {},
     "output_type": "execute_result"
    }
   ],
   "source": [
    "cp.normalized_losses.info"
   ]
  },
  {
   "cell_type": "code",
   "execution_count": 75,
   "id": "8c1f1c4a-0e6e-4005-8ecc-7fc97d3fbf21",
   "metadata": {},
   "outputs": [],
   "source": [
    "cp.normalized_losses = cp.normalized_losses.astype(float)\n",
    "cp.bore = cp.bore.astype(float)\n",
    "cp.stroke = cp.stroke.astype(float)\n",
    "cp.horsepower = cp.horsepower.astype(float)\n",
    "cp.peak_rpm = cp.peak_rpm.astype(float)"
   ]
  },
  {
   "cell_type": "code",
   "execution_count": 76,
   "id": "643a91ef-b8f4-47f7-8a99-85aab7dcb894",
   "metadata": {},
   "outputs": [],
   "source": [
    "cp.normalized_losses = cp.normalized_losses.fillna(cp.normalized_losses.mean())\n",
    "cp.num_of_doors = cp.num_of_doors.fillna('four')\n",
    "cp.bore = cp.bore.fillna(cp.bore.mean())\n",
    "cp.stroke = cp.stroke.fillna(cp.stroke.mean())\n",
    "cp.horsepower = cp.horsepower.fillna(cp.horsepower.mean())\n",
    "cp.peak_rpm = cp.peak_rpm.fillna(cp.peak_rpm.mean())"
   ]
  },
  {
   "cell_type": "code",
   "execution_count": 83,
   "id": "804f434c-0bda-4b10-8415-60914a1da1ad",
   "metadata": {},
   "outputs": [],
   "source": [
    "cp = cp.dropna()"
   ]
  },
  {
   "cell_type": "code",
   "execution_count": 77,
   "id": "ff61997b-ef9b-411a-a36a-cdcc47fc862c",
   "metadata": {},
   "outputs": [],
   "source": [
    "from sklearn.preprocessing import LabelEncoder\n",
    "le = LabelEncoder()"
   ]
  },
  {
   "cell_type": "code",
   "execution_count": 80,
   "id": "94b0425a-1506-4132-8c75-ea1c06595e17",
   "metadata": {},
   "outputs": [],
   "source": [
    "cp.Fuel_type = le.fit_transform(cp.Fuel_type)\n",
    "cp.num_of_doors = cp.num_of_doors.replace({'two' : 2, 'four': 4})\n",
    "cp.make = le.fit_transform(cp.make)\n",
    "cp.aspiration = le.fit_transform(cp.aspiration)\n",
    "cp.wheel_base = le.fit_transform(cp.wheel_base)\n",
    "cp.engine_location = le.fit_transform(cp.engine_location)\n",
    "cp.body_style = le.fit_transform(cp.body_style)\n",
    "cp.engine_type = le.fit_transform(cp.engine_type)\n",
    "cp.num_of_cylinders = cp.num_of_cylinders.replace({'four':4,'six':6,'five':5,'three':3,'twelve':12,'two':2,'eight':8})\n",
    "cp.fuel_system = le.fit_transform(cp.fuel_system)"
   ]
  },
  {
   "cell_type": "code",
   "execution_count": 81,
   "id": "77cba0b3-4b1e-45e6-8c49-57335d98d229",
   "metadata": {},
   "outputs": [],
   "source": [
    "cp.price = cp.price.astype(float)"
   ]
  },
  {
   "cell_type": "code",
   "execution_count": 107,
   "id": "290b8349-c56c-4521-99af-1a0dca7dd05b",
   "metadata": {},
   "outputs": [],
   "source": [
    "cp_train , cp_test = train_test_split(cp, test_size = .2)"
   ]
  },
  {
   "cell_type": "code",
   "execution_count": 108,
   "id": "262479ba-099e-4712-8b99-37a6568f4449",
   "metadata": {},
   "outputs": [],
   "source": [
    "cp_train_x = cp_train.iloc[:, :-1]\n",
    "cp_train_y = cp_train.iloc[:, -1]"
   ]
  },
  {
   "cell_type": "code",
   "execution_count": 109,
   "id": "30d3f8ac-04c4-4389-8620-85a79bf9f821",
   "metadata": {},
   "outputs": [],
   "source": [
    "cp_test_x = cp_test.iloc[:, :-1]\n",
    "cp_test_y = cp_test.iloc[:, -1]"
   ]
  },
  {
   "cell_type": "code",
   "execution_count": 110,
   "id": "8b6443ef-12f2-47d9-982e-56f0af224406",
   "metadata": {},
   "outputs": [],
   "source": [
    "lin_cp = LinearRegression()"
   ]
  },
  {
   "cell_type": "code",
   "execution_count": 111,
   "id": "762fa5a4-9c4e-4d9d-8c35-71427d50177c",
   "metadata": {},
   "outputs": [
    {
     "data": {
      "text/plain": [
       "LinearRegression()"
      ]
     },
     "execution_count": 111,
     "metadata": {},
     "output_type": "execute_result"
    }
   ],
   "source": [
    "lin_cp.fit(cp_train_x,cp_train_y)"
   ]
  },
  {
   "cell_type": "code",
   "execution_count": 112,
   "id": "46b600f0-a881-4582-a339-83df4ff822f3",
   "metadata": {},
   "outputs": [
    {
     "data": {
      "text/plain": [
       "0.8722623582521091"
      ]
     },
     "execution_count": 112,
     "metadata": {},
     "output_type": "execute_result"
    }
   ],
   "source": [
    "Rsquare = lin_cp.score(cp_train_x, cp_train_y)\n",
    "Rsquare"
   ]
  },
  {
   "cell_type": "code",
   "execution_count": 113,
   "id": "de484a2a-7444-4761-a777-f923d207a280",
   "metadata": {},
   "outputs": [
    {
     "data": {
      "text/plain": [
       "0.8462994229374972"
      ]
     },
     "execution_count": 113,
     "metadata": {},
     "output_type": "execute_result"
    }
   ],
   "source": [
    "N = cp_train_x.shape[0]\n",
    "K = cp_train_x.shape[1]\n",
    "\n",
    "AdjRsquare = 1-(1-Rsquare)*(N-1)/(N-K-1)\n",
    "AdjRsquare"
   ]
  },
  {
   "cell_type": "code",
   "execution_count": 114,
   "id": "43802566-2dbd-4d27-8be5-0697ef78c8ef",
   "metadata": {},
   "outputs": [],
   "source": [
    "pred_train = lin_cp.predict(cp_train_x)"
   ]
  },
  {
   "cell_type": "code",
   "execution_count": 115,
   "id": "c8978494-484f-4b8b-96b2-ee1b416fea6c",
   "metadata": {},
   "outputs": [
    {
     "data": {
      "text/plain": [
       "29     -357.730892\n",
       "14     5526.934300\n",
       "134     218.956203\n",
       "155    -324.459404\n",
       "192     804.168040\n",
       "          ...     \n",
       "34     -821.646342\n",
       "179   -1170.722056\n",
       "171    -674.511650\n",
       "46    -2879.853584\n",
       "81     1153.500513\n",
       "Name: price, Length: 149, dtype: float64"
      ]
     },
     "execution_count": 115,
     "metadata": {},
     "output_type": "execute_result"
    }
   ],
   "source": [
    "err_train = cp_train_y - pred_train\n",
    "err_train"
   ]
  },
  {
   "cell_type": "code",
   "execution_count": 116,
   "id": "08a0b923-48c4-4679-8faf-6aa523ae11ef",
   "metadata": {},
   "outputs": [
    {
     "data": {
      "text/plain": [
       "-1.7872486488531098e-11"
      ]
     },
     "execution_count": 116,
     "metadata": {},
     "output_type": "execute_result"
    }
   ],
   "source": [
    "np.mean(err_train)"
   ]
  },
  {
   "cell_type": "code",
   "execution_count": 117,
   "id": "893c9ca0-035b-4326-93ce-5b2e76ffcefd",
   "metadata": {},
   "outputs": [
    {
     "data": {
      "image/png": "[encoded data removed]",
      "text/plain": [
       "<Figure size 432x288 with 1 Axes>"
      ]
     },
     "metadata": {
      "needs_background": "light"
     },
     "output_type": "display_data"
    }
   ],
   "source": [
    "plt.hist(err_train);"
   ]
  },
  {
   "cell_type": "code",
   "execution_count": 118,
   "id": "1003d6cc-6832-4616-895a-226dbd0b72d5",
   "metadata": {},
   "outputs": [
    {
     "data": {
      "image/png": "[encoded data removed]",
      "text/plain": [
       "<Figure size 432x288 with 1 Axes>"
      ]
     },
     "metadata": {
      "needs_background": "light"
     },
     "output_type": "display_data"
    }
   ],
   "source": [
    "plt.plot(err_train,'*');"
   ]
  },
  {
   "cell_type": "code",
   "execution_count": 119,
   "id": "314e129c-92a5-4d9d-a0f2-c45a18ff1939",
   "metadata": {},
   "outputs": [],
   "source": [
    "pred_actual = pd.DataFrame()\n",
    "pred_actual['actual'] = cp_train_y\n",
    "pred_actual['predicted'] = pred_train"
   ]
  },
  {
   "cell_type": "code",
   "execution_count": 120,
   "id": "d866d4cc-ac8a-4d29-aa23-21c68bdba5b9",
   "metadata": {},
   "outputs": [
    {
     "data": {
      "image/png": "[encoded data removed]",
      "text/plain": [
       "<Figure size 432x288 with 1 Axes>"
      ]
     },
     "metadata": {
      "needs_background": "light"
     },
     "output_type": "display_data"
    }
   ],
   "source": [
    "sns.regplot(x='actual', y='predicted', data = pred_actual);"
   ]
  },
  {
   "cell_type": "code",
   "execution_count": 121,
   "id": "1109bb12-c2a4-4a5d-a2f2-9a2cc0db2f0f",
   "metadata": {},
   "outputs": [],
   "source": [
    "pred_test = lin_cp.predict(cp_test_x)\n",
    "err_test = cp_test_y - pred_test"
   ]
  },
  {
   "cell_type": "code",
   "execution_count": 122,
   "id": "d1d13092-8f9e-4c15-97b2-6ea7caa94cbe",
   "metadata": {},
   "outputs": [
    {
     "data": {
      "text/plain": [
       "4621382.107629013"
      ]
     },
     "execution_count": 122,
     "metadata": {},
     "output_type": "execute_result"
    }
   ],
   "source": [
    "MSE = np.mean(np.square(err_test))\n",
    "MSE"
   ]
  },
  {
   "cell_type": "code",
   "execution_count": 123,
   "id": "deac144d-8630-4979-b1e1-de73ab04edde",
   "metadata": {},
   "outputs": [
    {
     "data": {
      "text/plain": [
       "2149.7400093101987"
      ]
     },
     "execution_count": 123,
     "metadata": {},
     "output_type": "execute_result"
    }
   ],
   "source": [
    "RMSE = np.sqrt(MSE)\n",
    "RMSE"
   ]
  },
  {
   "cell_type": "code",
   "execution_count": 124,
   "id": "1a4aa0f5-41d7-49ed-b1c8-bd5897f422c0",
   "metadata": {},
   "outputs": [
    {
     "data": {
      "text/plain": [
       "16.357102794995797"
      ]
     },
     "execution_count": 124,
     "metadata": {},
     "output_type": "execute_result"
    }
   ],
   "source": [
    "MAPE = np.mean(np.abs(err_test*100/cp_test_y))\n",
    "MAPE"
   ]
  },
  {
   "cell_type": "code",
   "execution_count": 103,
   "id": "ecdc7de5-9648-4c6e-a9e6-0bc393434612",
   "metadata": {},
   "outputs": [],
   "source": [
    "def remove_outliers(df,  col, k  ):   \n",
    "    mean = df[col].mean()\n",
    "    global df1\n",
    "    sd = df[col].std()    \n",
    "    final_list = [x for x in df[col] if (x > mean - k * sd)]\n",
    "    final_list = [x for x in final_list if (x < mean + k * sd)]         \n",
    "    df1 = df.loc[df[col].isin(final_list)] ; print(df1.shape)     \n",
    "    print(\"Number of outliers removed == >\"   ,  df.shape[0]  - df1.shape[0])\n"
   ]
  },
  {
   "cell_type": "code",
   "execution_count": 104,
   "id": "ef5f7ae9-b233-42aa-a063-484276232ada",
   "metadata": {},
   "outputs": [
    {
     "name": "stdout",
     "output_type": "stream",
     "text": [
      "(187, 26)\n",
      "Number of outliers removed == > 14\n"
     ]
    }
   ],
   "source": [
    "remove_outliers(cp, 'price',2)"
   ]
  },
  {
   "cell_type": "code",
   "execution_count": 106,
   "id": "5547455c-b07c-40cb-8ead-c9e27e8fba54",
   "metadata": {},
   "outputs": [],
   "source": [
    "cp = df1"
   ]
  },
  {
   "cell_type": "markdown",
   "id": "5ced0636-3047-4588-abfa-4041545a26f4",
   "metadata": {},
   "source": [
    "-------------"
   ]
  },
  {
   "cell_type": "code",
   "execution_count": 127,
   "id": "da87e1e6-dd67-433a-bcd0-7d2a6470b031",
   "metadata": {},
   "outputs": [],
   "source": [
    "inc = pd.read_csv(r\"E:\\Python basics\\Pranjal Sir\\Pandas Data Sets\\insuranceLiner.csv\")"
   ]
  },
  {
   "cell_type": "code",
   "execution_count": 130,
   "id": "8dc97e11-d895-48e6-85d0-d6b9e9f29bb4",
   "metadata": {},
   "outputs": [
    {
     "data": {
      "text/html": [
       "<div>\n",
       "<style scoped>\n",
       "    .dataframe tbody tr th:only-of-type {\n",
       "        vertical-align: middle;\n",
       "    }\n",
       "\n",
       "    .dataframe tbody tr th {\n",
       "        vertical-align: top;\n",
       "    }\n",
       "\n",
       "    .dataframe thead th {\n",
       "        text-align: right;\n",
       "    }\n",
       "</style>\n",
       "<table border=\"1\" class=\"dataframe\">\n",
       "  <thead>\n",
       "    <tr style=\"text-align: right;\">\n",
       "      <th></th>\n",
       "      <th>age</th>\n",
       "      <th>sex</th>\n",
       "      <th>bmi</th>\n",
       "      <th>children</th>\n",
       "      <th>smoker</th>\n",
       "      <th>region</th>\n",
       "      <th>charges</th>\n",
       "    </tr>\n",
       "  </thead>\n",
       "  <tbody>\n",
       "    <tr>\n",
       "      <th>0</th>\n",
       "      <td>19</td>\n",
       "      <td>female</td>\n",
       "      <td>27.900</td>\n",
       "      <td>0</td>\n",
       "      <td>yes</td>\n",
       "      <td>southwest</td>\n",
       "      <td>16884.92400</td>\n",
       "    </tr>\n",
       "    <tr>\n",
       "      <th>1</th>\n",
       "      <td>18</td>\n",
       "      <td>male</td>\n",
       "      <td>33.770</td>\n",
       "      <td>1</td>\n",
       "      <td>no</td>\n",
       "      <td>southeast</td>\n",
       "      <td>1725.55230</td>\n",
       "    </tr>\n",
       "    <tr>\n",
       "      <th>2</th>\n",
       "      <td>28</td>\n",
       "      <td>male</td>\n",
       "      <td>33.000</td>\n",
       "      <td>3</td>\n",
       "      <td>no</td>\n",
       "      <td>southeast</td>\n",
       "      <td>4449.46200</td>\n",
       "    </tr>\n",
       "    <tr>\n",
       "      <th>3</th>\n",
       "      <td>33</td>\n",
       "      <td>male</td>\n",
       "      <td>22.705</td>\n",
       "      <td>0</td>\n",
       "      <td>no</td>\n",
       "      <td>northwest</td>\n",
       "      <td>21984.47061</td>\n",
       "    </tr>\n",
       "    <tr>\n",
       "      <th>4</th>\n",
       "      <td>32</td>\n",
       "      <td>male</td>\n",
       "      <td>28.880</td>\n",
       "      <td>0</td>\n",
       "      <td>no</td>\n",
       "      <td>northwest</td>\n",
       "      <td>3866.85520</td>\n",
       "    </tr>\n",
       "  </tbody>\n",
       "</table>\n",
       "</div>"
      ],
      "text/plain": [
       "   age     sex     bmi  children smoker     region      charges\n",
       "0   19  female  27.900         0    yes  southwest  16884.92400\n",
       "1   18    male  33.770         1     no  southeast   1725.55230\n",
       "2   28    male  33.000         3     no  southeast   4449.46200\n",
       "3   33    male  22.705         0     no  northwest  21984.47061\n",
       "4   32    male  28.880         0     no  northwest   3866.85520"
      ]
     },
     "execution_count": 130,
     "metadata": {},
     "output_type": "execute_result"
    }
   ],
   "source": [
    "inc.head(5)"
   ]
  },
  {
   "cell_type": "code",
   "execution_count": 129,
   "id": "3f65b270-0bd3-456a-86d9-fd3f228d4b88",
   "metadata": {},
   "outputs": [
    {
     "data": {
      "text/plain": [
       "age         0\n",
       "sex         0\n",
       "bmi         0\n",
       "children    0\n",
       "smoker      0\n",
       "region      0\n",
       "charges     0\n",
       "dtype: int64"
      ]
     },
     "execution_count": 129,
     "metadata": {},
     "output_type": "execute_result"
    }
   ],
   "source": [
    "inc.isnull().sum()"
   ]
  },
  {
   "cell_type": "code",
   "execution_count": 134,
   "id": "38cd57b8-4124-4429-8629-7f0b4e02e528",
   "metadata": {},
   "outputs": [],
   "source": [
    "inc.sex.replace({'female':0, 'male':1}, inplace = True)\n",
    "inc.smoker.replace({'yes':1,'no':0}, inplace = True)\n",
    "inc.region.replace({'southwest':1, 'southeast':2, 'northwest':3, 'northeast':4}, inplace = True)\n"
   ]
  },
  {
   "cell_type": "code",
   "execution_count": 162,
   "id": "e1c1763b-1f0c-4cdd-bc5a-a17e4472f281",
   "metadata": {},
   "outputs": [],
   "source": [
    "inc_train , inc_test = train_test_split(inc, test_size = .2)"
   ]
  },
  {
   "cell_type": "code",
   "execution_count": 163,
   "id": "90d75d65-31c1-4573-848b-6e1dc9b214af",
   "metadata": {},
   "outputs": [],
   "source": [
    "inc_train_x = inc_train.iloc[:, :-1]\n",
    "inc_train_y = inc_train.iloc[:, -1]"
   ]
  },
  {
   "cell_type": "code",
   "execution_count": 164,
   "id": "0ae6503c-8c07-43cd-80d8-0230d589d26c",
   "metadata": {},
   "outputs": [],
   "source": [
    "inc_test_x = inc_test.iloc[:, :-1]\n",
    "inc_test_y = inc_test.iloc[:, -1]"
   ]
  },
  {
   "cell_type": "code",
   "execution_count": 165,
   "id": "f4e42733-7b9a-4d5c-ac96-47cd348b3615",
   "metadata": {},
   "outputs": [],
   "source": [
    "lin_inc = LinearRegression()"
   ]
  },
  {
   "cell_type": "code",
   "execution_count": 166,
   "id": "9d97c631-32ef-47b6-a421-02a6a8e1596f",
   "metadata": {},
   "outputs": [
    {
     "data": {
      "text/plain": [
       "LinearRegression()"
      ]
     },
     "execution_count": 166,
     "metadata": {},
     "output_type": "execute_result"
    }
   ],
   "source": [
    "lin_inc.fit(inc_train_x,inc_train_y)"
   ]
  },
  {
   "cell_type": "code",
   "execution_count": 167,
   "id": "5b0e39b1-b603-46b8-85f2-0d0c5722b3b2",
   "metadata": {},
   "outputs": [
    {
     "data": {
      "text/plain": [
       "0.6249457272554602"
      ]
     },
     "execution_count": 167,
     "metadata": {},
     "output_type": "execute_result"
    }
   ],
   "source": [
    "Rsquare = lin_inc.score(inc_train_x, inc_train_y)\n",
    "Rsquare"
   ]
  },
  {
   "cell_type": "code",
   "execution_count": 168,
   "id": "29e821fd-5998-4c41-a82a-3976476ade1a",
   "metadata": {},
   "outputs": [
    {
     "data": {
      "text/plain": [
       "0.6226424256828222"
      ]
     },
     "execution_count": 168,
     "metadata": {},
     "output_type": "execute_result"
    }
   ],
   "source": [
    "N = inc_train_x.shape[0]\n",
    "K = inc_train_x.shape[1]\n",
    "\n",
    "AdjRsquare = 1-(1-Rsquare)*(N-1)/(N-K-1)\n",
    "AdjRsquare"
   ]
  },
  {
   "cell_type": "code",
   "execution_count": 169,
   "id": "e3820953-4c2f-4999-b9ce-66b4340a3923",
   "metadata": {},
   "outputs": [],
   "source": [
    "pred_train = lin_inc.predict(inc_train_x)"
   ]
  },
  {
   "cell_type": "code",
   "execution_count": 170,
   "id": "fa40a511-7955-4174-af49-b162e8237993",
   "metadata": {},
   "outputs": [
    {
     "data": {
      "text/plain": [
       "1058   -3275.784361\n",
       "1214   -1868.890002\n",
       "649     -502.981338\n",
       "1293    -484.486392\n",
       "900     -644.535729\n",
       "           ...     \n",
       "691    -2295.417498\n",
       "1025   -2122.585806\n",
       "982    -4575.529717\n",
       "1257     -36.980695\n",
       "580      625.536617\n",
       "Name: charges, Length: 984, dtype: float64"
      ]
     },
     "execution_count": 170,
     "metadata": {},
     "output_type": "execute_result"
    }
   ],
   "source": [
    "err_train = inc_train_y - pred_train\n",
    "err_train"
   ]
  },
  {
   "cell_type": "code",
   "execution_count": 171,
   "id": "8e1db257-bd2e-4503-bbc1-5ba9e2c41f77",
   "metadata": {},
   "outputs": [
    {
     "data": {
      "text/plain": [
       "5.53645656871935e-13"
      ]
     },
     "execution_count": 171,
     "metadata": {},
     "output_type": "execute_result"
    }
   ],
   "source": [
    "np.mean(err_train)"
   ]
  },
  {
   "cell_type": "code",
   "execution_count": 172,
   "id": "5c45f22c-1d45-4450-8c96-452c24d79bed",
   "metadata": {},
   "outputs": [
    {
     "data": {
      "image/png": "[encoded data removed]",
      "text/plain": [
       "<Figure size 432x288 with 1 Axes>"
      ]
     },
     "metadata": {
      "needs_background": "light"
     },
     "output_type": "display_data"
    }
   ],
   "source": [
    "plt.hist(err_train);"
   ]
  },
  {
   "cell_type": "code",
   "execution_count": 173,
   "id": "238700d1-5a27-40e1-a806-6bf7c4c029e5",
   "metadata": {},
   "outputs": [
    {
     "data": {
      "image/png": "[encoded data removed]",
      "text/plain": [
       "<Figure size 432x288 with 1 Axes>"
      ]
     },
     "metadata": {
      "needs_background": "light"
     },
     "output_type": "display_data"
    }
   ],
   "source": [
    "plt.plot(err_train,'*');"
   ]
  },
  {
   "cell_type": "code",
   "execution_count": 174,
   "id": "863cb19b-1462-4150-8aa9-fc3d1de7452c",
   "metadata": {},
   "outputs": [],
   "source": [
    "pred_actual = pd.DataFrame()\n",
    "pred_actual['actual'] = inc_train_y\n",
    "pred_actual['predicted'] = pred_train"
   ]
  },
  {
   "cell_type": "code",
   "execution_count": 175,
   "id": "554e21c1-872e-419d-a3ed-24230078cb10",
   "metadata": {},
   "outputs": [
    {
     "data": {
      "image/png": "[encoded data removed]",
      "text/plain": [
       "<Figure size 432x288 with 1 Axes>"
      ]
     },
     "metadata": {
      "needs_background": "light"
     },
     "output_type": "display_data"
    }
   ],
   "source": [
    "sns.regplot(x='actual', y='predicted', data = pred_actual);"
   ]
  },
  {
   "cell_type": "code",
   "execution_count": 178,
   "id": "eb9f1c34-9c2e-4255-8a7c-f87c8905e0cf",
   "metadata": {},
   "outputs": [],
   "source": [
    "pred_test = lin_inc.predict(inc_test_x)\n",
    "err_test = inc_test_y - pred_test"
   ]
  },
  {
   "cell_type": "code",
   "execution_count": 179,
   "id": "e34ece9e-d64b-4a04-bbce-ceb20a2b86b5",
   "metadata": {},
   "outputs": [
    {
     "data": {
      "text/plain": [
       "29720678.93076645"
      ]
     },
     "execution_count": 179,
     "metadata": {},
     "output_type": "execute_result"
    }
   ],
   "source": [
    "MSE = np.mean(np.square(err_test))\n",
    "MSE"
   ]
  },
  {
   "cell_type": "code",
   "execution_count": 180,
   "id": "14793cd7-94b1-4865-8ad7-07031e580d94",
   "metadata": {},
   "outputs": [
    {
     "data": {
      "text/plain": [
       "5451.667536705301"
      ]
     },
     "execution_count": 180,
     "metadata": {},
     "output_type": "execute_result"
    }
   ],
   "source": [
    "RMSE = np.sqrt(MSE)\n",
    "RMSE"
   ]
  },
  {
   "cell_type": "code",
   "execution_count": 181,
   "id": "1b10bde8-6936-462c-ad19-54b15dd66ccf",
   "metadata": {},
   "outputs": [
    {
     "data": {
      "text/plain": [
       "42.49458414650721"
      ]
     },
     "execution_count": 181,
     "metadata": {},
     "output_type": "execute_result"
    }
   ],
   "source": [
    "MAPE = np.mean(np.abs(err_test*100/cp_test_y))\n",
    "MAPE"
   ]
  },
  {
   "cell_type": "code",
   "execution_count": null,
   "id": "0188625f-f8a0-4c03-aaaf-9c691f322724",
   "metadata": {},
   "outputs": [],
   "source": []
  },
  {
   "cell_type": "code",
   "execution_count": 159,
   "id": "77bda29e-b197-48fd-bd68-77eae7767d57",
   "metadata": {},
   "outputs": [],
   "source": [
    "def remove_outliers(df,  col, k  ):   \n",
    "    mean = df[col].mean()\n",
    "    global df1\n",
    "    sd = df[col].std()    \n",
    "    final_list = [x for x in df[col] if (x > mean - k * sd)]\n",
    "    final_list = [x for x in final_list if (x < mean + k * sd)]         \n",
    "    df1 = df.loc[df[col].isin(final_list)] ; print(df1.shape)     \n",
    "    print(\"Number of outliers removed == >\"   ,  df.shape[0]  - df1.shape[0])\n"
   ]
  },
  {
   "cell_type": "code",
   "execution_count": 160,
   "id": "4a38eb41-31ab-41dc-9b40-e737fb38dc8b",
   "metadata": {},
   "outputs": [
    {
     "name": "stdout",
     "output_type": "stream",
     "text": [
      "(1231, 7)\n",
      "Number of outliers removed == > 107\n"
     ]
    }
   ],
   "source": [
    "remove_outliers(inc, 'charges',2)"
   ]
  },
  {
   "cell_type": "code",
   "execution_count": 161,
   "id": "22dae6c8-3051-408d-8942-924ea197ac92",
   "metadata": {},
   "outputs": [],
   "source": [
    "inc = df1"
   ]
  },
  {
   "cell_type": "code",
   "execution_count": 177,
   "id": "6e8828f3-e0b3-480e-a886-d189eea22158",
   "metadata": {},
   "outputs": [],
   "source": [
    "# the main parameters are not there then how can we build the model.\n",
    "# reason for visiting hospital == cancer hoga toh charges alg hoge\n",
    "# issliye model build nhi ho rha "
   ]
  },
  {
   "cell_type": "markdown",
   "id": "6da14c69-c386-4ee4-83a0-1eddbeb18d18",
   "metadata": {},
   "source": [
    "--------------------"
   ]
  },
  {
   "cell_type": "code",
   "execution_count": null,
   "id": "899bf734-9a17-4c50-8728-004e08c1b0ad",
   "metadata": {},
   "outputs": [],
   "source": []
  }
 ],
 "metadata": {
  "kernelspec": {
   "display_name": "Python 3 (ipykernel)",
   "language": "python",
   "name": "python3"
  },
  "language_info": {
   "codemirror_mode": {
    "name": "ipython",
    "version": 3
   },
   "file_extension": ".py",
   "mimetype": "text/x-python",
   "name": "python",
   "nbconvert_exporter": "python",
   "pygments_lexer": "ipython3",
   "version": "3.9.12"
  }
 },
 "nbformat": 4,
 "nbformat_minor": 5
}
